{
 "cells": [
  {
   "cell_type": "code",
   "execution_count": 1,
   "id": "1d3dceef",
   "metadata": {},
   "outputs": [],
   "source": [
    "import numpy as np\n",
    "rng = np.random.RandomState(123)\n",
    "\n",
    "d = 2 #데이터 차원\n",
    "N = 10 #각 패턴마다의 데이터 수\n",
    "mean = 5 #뉴런이 발화하는 데이터의 평균값\n",
    "\n",
    "x1 = rng.randn(N, d) + np.array([0, 0])\n",
    "x2 = rng.randn(N, d) + np.array([mean, mean])"
   ]
  },
  {
   "cell_type": "code",
   "execution_count": 2,
   "id": "edb7db39",
   "metadata": {},
   "outputs": [
    {
     "data": {
      "text/plain": [
       "array([[-1.0856306 ,  0.99734545],\n",
       "       [ 0.2829785 , -1.50629471],\n",
       "       [-0.57860025,  1.65143654],\n",
       "       [-2.42667924, -0.42891263],\n",
       "       [ 1.26593626, -0.8667404 ],\n",
       "       [-0.67888615, -0.09470897],\n",
       "       [ 1.49138963, -0.638902  ],\n",
       "       [-0.44398196, -0.43435128],\n",
       "       [ 2.20593008,  2.18678609],\n",
       "       [ 1.0040539 ,  0.3861864 ]])"
      ]
     },
     "execution_count": 2,
     "metadata": {},
     "output_type": "execute_result"
    }
   ],
   "source": [
    "x1"
   ]
  },
  {
   "cell_type": "code",
   "execution_count": 3,
   "id": "af82934f",
   "metadata": {},
   "outputs": [
    {
     "data": {
      "text/plain": [
       "array([[5.73736858, 6.49073203],\n",
       "       [4.06416613, 6.17582904],\n",
       "       [3.74611933, 4.3622485 ],\n",
       "       [5.9071052 , 3.5713193 ],\n",
       "       [4.85993128, 4.1382451 ],\n",
       "       [4.74438063, 2.20141089],\n",
       "       [3.2284669 , 4.30012277],\n",
       "       [5.92746243, 4.82636432],\n",
       "       [5.00284592, 5.68822271],\n",
       "       [4.12046366, 5.28362732]])"
      ]
     },
     "execution_count": 3,
     "metadata": {},
     "output_type": "execute_result"
    }
   ],
   "source": [
    "x2"
   ]
  },
  {
   "cell_type": "code",
   "execution_count": 4,
   "id": "9f33bd8c",
   "metadata": {},
   "outputs": [
    {
     "data": {
      "text/plain": [
       "array([[-1.0856306 ,  0.99734545],\n",
       "       [ 0.2829785 , -1.50629471],\n",
       "       [-0.57860025,  1.65143654],\n",
       "       [-2.42667924, -0.42891263],\n",
       "       [ 1.26593626, -0.8667404 ],\n",
       "       [-0.67888615, -0.09470897],\n",
       "       [ 1.49138963, -0.638902  ],\n",
       "       [-0.44398196, -0.43435128],\n",
       "       [ 2.20593008,  2.18678609],\n",
       "       [ 1.0040539 ,  0.3861864 ],\n",
       "       [ 5.73736858,  6.49073203],\n",
       "       [ 4.06416613,  6.17582904],\n",
       "       [ 3.74611933,  4.3622485 ],\n",
       "       [ 5.9071052 ,  3.5713193 ],\n",
       "       [ 4.85993128,  4.1382451 ],\n",
       "       [ 4.74438063,  2.20141089],\n",
       "       [ 3.2284669 ,  4.30012277],\n",
       "       [ 5.92746243,  4.82636432],\n",
       "       [ 5.00284592,  5.68822271],\n",
       "       [ 4.12046366,  5.28362732]])"
      ]
     },
     "execution_count": 4,
     "metadata": {},
     "output_type": "execute_result"
    }
   ],
   "source": [
    "x = np.concatenate((x1, x2), axis=0)\n",
    "x"
   ]
  },
  {
   "cell_type": "code",
   "execution_count": 7,
   "id": "c073d59b",
   "metadata": {},
   "outputs": [],
   "source": [
    "# 웨이트벡터와 바이어스 초기화해주기\n",
    "w = np.zeros(d)\n",
    "b = 0"
   ]
  },
  {
   "cell_type": "code",
   "execution_count": 8,
   "id": "a0640ec6",
   "metadata": {},
   "outputs": [],
   "source": [
    "# 출력식 정의\n",
    "def y(x):\n",
    "    return step(np.dot(w, x) + b)\n",
    "def step(x):\n",
    "    return 1 * (x > 0)\n",
    "\n",
    "# 처음 정의한 10개는 뉴런이 발화하지 않는 데이터\n",
    "def t(i):\n",
    "    if i < N:\n",
    "        return 0\n",
    "    else:\n",
    "        return 1"
   ]
  },
  {
   "cell_type": "code",
   "execution_count": 10,
   "id": "71b6a0a1",
   "metadata": {},
   "outputs": [],
   "source": [
    "while True:\n",
    "    classified = True\n",
    "    for i in range(N*2):\n",
    "        delta_w = (t(i)-y(x[i])) * x[i]\n",
    "        delta_b = (t(i)-y(x[i]))\n",
    "        w += delta_w\n",
    "        b += delta_b\n",
    "        classified *= all(delta_w == 0)*(delta_b == 0)\n",
    "    if classified:\n",
    "        break"
   ]
  },
  {
   "cell_type": "code",
   "execution_count": 11,
   "id": "62f53341",
   "metadata": {},
   "outputs": [
    {
     "name": "stdout",
     "output_type": "stream",
     "text": [
      "w : [2.14037745 1.2763927 ], b : -9\n"
     ]
    }
   ],
   "source": [
    "print(\"w : {}, b : {}\".format(w, b))"
   ]
  }
 ],
 "metadata": {
  "kernelspec": {
   "display_name": "Python 3 (ipykernel)",
   "language": "python",
   "name": "python3"
  },
  "language_info": {
   "codemirror_mode": {
    "name": "ipython",
    "version": 3
   },
   "file_extension": ".py",
   "mimetype": "text/x-python",
   "name": "python",
   "nbconvert_exporter": "python",
   "pygments_lexer": "ipython3",
   "version": "3.9.7"
  }
 },
 "nbformat": 4,
 "nbformat_minor": 5
}
