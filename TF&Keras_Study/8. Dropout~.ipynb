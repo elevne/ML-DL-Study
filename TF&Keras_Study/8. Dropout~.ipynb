{
 "cells": [
  {
   "cell_type": "code",
   "execution_count": 1,
   "id": "26a54d13",
   "metadata": {},
   "outputs": [],
   "source": [
    "from keras.datasets import mnist\n",
    "import numpy as np\n",
    "(X_train, y_train), (X_test, y_test) = mnist.load_data()\n",
    "y_train, y_test = np.eye(10)[y_train.astype(int)], np.eye(10)[y_test.astype(int)]\n",
    "X_train = X_train.reshape(-1, 28*28)\n",
    "X_train.shape\n",
    "X_test = X_test.reshape(-1, 28*28)\n",
    "X_test.shape\n",
    "n_in = len(X_train[0])\n",
    "n_in\n",
    "n_hidden = 200\n",
    "n_out = 10"
   ]
  },
  {
   "cell_type": "code",
   "execution_count": 2,
   "id": "84828a8e",
   "metadata": {},
   "outputs": [],
   "source": [
    "from keras.models import Sequential\n",
    "from keras.layers import Dense, Activation\n",
    "from keras.optimizers import SGD"
   ]
  },
  {
   "cell_type": "code",
   "execution_count": 5,
   "id": "a4fb2e22",
   "metadata": {},
   "outputs": [
    {
     "name": "stdout",
     "output_type": "stream",
     "text": [
      "WARNING:tensorflow:From C:\\Users\\Main\\Anaconda3\\lib\\site-packages\\tensorflow\\python\\util\\dispatch.py:1082: calling dropout (from tensorflow.python.ops.nn_ops) with keep_prob is deprecated and will be removed in a future version.\n",
      "Instructions for updating:\n",
      "Please use `rate` instead of `keep_prob`. Rate should be set to `rate = 1 - keep_prob`.\n"
     ]
    }
   ],
   "source": [
    "import tensorflow as tf\n",
    "from sklearn.utils import shuffle\n",
    "import tensorflow.compat.v1 as tf\n",
    "tf.disable_v2_behavior()\n",
    "\n",
    "x = tf.placeholder(tf.float32, shape=[None, n_in])\n",
    "t = tf.placeholder(tf.float32, shape=[None, n_out])\n",
    "keep_prob = tf.placeholder(tf.float32) # 드랍아웃하지 않을 확률\n",
    "\n",
    "W0 = tf.Variable(tf.truncated_normal([n_in, n_hidden], stddev=0.01))\n",
    "b0 = tf.Variable(tf.zeros([n_hidden]))\n",
    "h0 = tf.nn.relu(tf.matmul(x, W0) + b0)\n",
    "h0_drop = tf.nn.dropout(h0, keep_prob)\n",
    "\n",
    "W1 = tf.Variable(tf.truncated_normal([n_hidden, n_hidden], stddev=0.01))\n",
    "b1 = tf.Variable(tf.zeros([n_hidden]))\n",
    "h1 = tf.nn.relu(tf.matmul(h0_drop, W1)+b1)\n",
    "h1_drop = tf.nn.dropout(h1, keep_prob)\n",
    "\n",
    "W2 = tf.Variable(tf.truncated_normal([n_hidden, n_out], stddev=0.01))\n",
    "b2 = tf.Variable(tf.zeros([n_out]))\n",
    "y = tf.nn.softmax(tf.matmul(h1_drop, W2) + b2)"
   ]
  },
  {
   "cell_type": "code",
   "execution_count": 10,
   "id": "f8172b02",
   "metadata": {},
   "outputs": [],
   "source": [
    "init = tf.global_variables_initializer()\n",
    "sess = tf.Session()\n",
    "sess.run(init)"
   ]
  },
  {
   "cell_type": "code",
   "execution_count": 13,
   "id": "208cf7b0",
   "metadata": {},
   "outputs": [],
   "source": [
    "cross_entropy = -tf.reduce_sum(t*tf.log(y) + (1-t)*tf.log(1-y))\n",
    "train_step = tf.train.GradientDescentOptimizer(0.01).minimize(cross_entropy)"
   ]
  },
  {
   "cell_type": "code",
   "execution_count": 14,
   "id": "f5db6d55",
   "metadata": {},
   "outputs": [],
   "source": [
    "# 학습\n",
    "batch_size = 100\n",
    "n_batches = 60000 // 100\n",
    "for epoch in range(30):\n",
    "    X_, Y_ = shuffle(X_train, y_train)\n",
    "    \n",
    "    for i in range(n_batches):\n",
    "        start = i*batch_size\n",
    "        end = start+batch_size\n",
    "        \n",
    "        sess.run(train_step, feed_dict={\n",
    "            x:X_[start:end], t:Y_[start:end], keep_prob:0.5 #여기에서 keep_prob설정해주기\n",
    "        })"
   ]
  },
  {
   "cell_type": "code",
   "execution_count": 16,
   "id": "4f49df57",
   "metadata": {},
   "outputs": [
    {
     "name": "stdout",
     "output_type": "stream",
     "text": [
      "WARNING:tensorflow:From C:\\Users\\Main\\Anaconda3\\lib\\site-packages\\tensorflow\\python\\util\\dispatch.py:1082: to_float (from tensorflow.python.ops.math_ops) is deprecated and will be removed in a future version.\n",
      "Instructions for updating:\n",
      "Use `tf.cast` instead.\n"
     ]
    }
   ],
   "source": [
    "correct_prediction = tf.equal(tf.to_float(tf.greater(y, 0.5)), t)"
   ]
  },
  {
   "cell_type": "code",
   "execution_count": 17,
   "id": "a72cab83",
   "metadata": {},
   "outputs": [],
   "source": [
    "# Accuracy 정의하기\n",
    "accuracy = tf.reduce_mean(tf.cast(correct_prediction, tf.float32))"
   ]
  },
  {
   "cell_type": "code",
   "execution_count": 18,
   "id": "50e020a9",
   "metadata": {},
   "outputs": [],
   "source": [
    "accuracy_rate = accuracy.eval(session=sess, feed_dict={\n",
    "    x:X_test, t:y_test, keep_prob: 1.0\n",
    "})"
   ]
  },
  {
   "cell_type": "code",
   "execution_count": 19,
   "id": "ae4b79fd",
   "metadata": {},
   "outputs": [
    {
     "data": {
      "text/plain": [
       "0.9"
      ]
     },
     "execution_count": 19,
     "metadata": {},
     "output_type": "execute_result"
    }
   ],
   "source": [
    "accuracy_rate"
   ]
  },
  {
   "cell_type": "markdown",
   "id": "addaf41c",
   "metadata": {},
   "source": [
    "### Keras로 구현해보기"
   ]
  },
  {
   "cell_type": "code",
   "execution_count": 20,
   "id": "114deab4",
   "metadata": {},
   "outputs": [],
   "source": [
    "from keras.layers.core import Dropout"
   ]
  },
  {
   "cell_type": "code",
   "execution_count": 21,
   "id": "cf7b67b0",
   "metadata": {},
   "outputs": [],
   "source": [
    "model = Sequential()\n",
    "model.add(Dense(n_hidden, input_dim=n_in))\n",
    "model.add(Activation('tanh'))\n",
    "model.add(Dropout(0.5))\n",
    "\n",
    "model.add(Dense(n_hidden))\n",
    "model.add(Activation('tanh'))\n",
    "model.add(Dropout(0.5))\n",
    "\n",
    "model.add(Dense(n_hidden))\n",
    "model.add(Activation('tanh'))\n",
    "model.add(Dropout(0.5))\n",
    "\n",
    "model.add(Dense(n_out))\n",
    "model.add(Activation('softmax'))"
   ]
  },
  {
   "cell_type": "code",
   "execution_count": 24,
   "id": "5b3ed8fa",
   "metadata": {},
   "outputs": [
    {
     "name": "stdout",
     "output_type": "stream",
     "text": [
      "Train on 60000 samples\n",
      "Epoch 1/10\n",
      "60000/60000 [==============================] - 8s 133us/sample - loss: 1.1555 - acc: 0.5968\n",
      "Epoch 2/10\n",
      "60000/60000 [==============================] - 8s 131us/sample - loss: 0.9816 - acc: 0.6630\n",
      "Epoch 3/10\n",
      "60000/60000 [==============================] - 8s 132us/sample - loss: 0.9316 - acc: 0.6826\n",
      "Epoch 4/10\n",
      "60000/60000 [==============================] - 8s 132us/sample - loss: 0.8732 - acc: 0.7070\n",
      "Epoch 5/10\n",
      "60000/60000 [==============================] - 8s 132us/sample - loss: 0.8490 - acc: 0.7164\n",
      "Epoch 6/10\n",
      "60000/60000 [==============================] - 8s 132us/sample - loss: 0.8068 - acc: 0.7348\n",
      "Epoch 7/10\n",
      "60000/60000 [==============================] - 8s 132us/sample - loss: 0.7934 - acc: 0.7395\n",
      "Epoch 8/10\n",
      "60000/60000 [==============================] - 8s 133us/sample - loss: 0.7515 - acc: 0.7533\n",
      "Epoch 9/10\n",
      "60000/60000 [==============================] - 8s 133us/sample - loss: 0.7248 - acc: 0.7644\n",
      "Epoch 10/10\n",
      "60000/60000 [==============================] - 8s 132us/sample - loss: 0.7193 - acc: 0.7639\n"
     ]
    },
    {
     "data": {
      "text/plain": [
       "<keras.callbacks.History at 0x22b1d74a670>"
      ]
     },
     "execution_count": 24,
     "metadata": {},
     "output_type": "execute_result"
    }
   ],
   "source": [
    "model.compile(loss='categorical_crossentropy', optimizer=SGD(learning_rate=0.01),metrics=['accuracy'])\n",
    "model.fit(X_train, y_train, epochs=10)"
   ]
  }
 ],
 "metadata": {
  "kernelspec": {
   "display_name": "Python 3 (ipykernel)",
   "language": "python",
   "name": "python3"
  },
  "language_info": {
   "codemirror_mode": {
    "name": "ipython",
    "version": 3
   },
   "file_extension": ".py",
   "mimetype": "text/x-python",
   "name": "python",
   "nbconvert_exporter": "python",
   "pygments_lexer": "ipython3",
   "version": "3.9.7"
  }
 },
 "nbformat": 4,
 "nbformat_minor": 5
}
