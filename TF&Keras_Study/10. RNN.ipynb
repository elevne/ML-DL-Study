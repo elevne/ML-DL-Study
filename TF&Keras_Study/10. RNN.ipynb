{
 "cells": [
  {
   "cell_type": "code",
   "execution_count": 1,
   "id": "1c8e2f0c",
   "metadata": {},
   "outputs": [],
   "source": [
    "import numpy as np\n",
    "\n",
    "def sin(x, T=100):\n",
    "    return np.sin(2.0 * np.pi * x/T)\n",
    "\n",
    "def toy_problem(T=100, ampl=0.05):\n",
    "    x = np.arange(0, 2*T+1)\n",
    "    noise = ampl * np.random.uniform(low=-1.0, high=1.0, size=len(x))\n",
    "    return sin(x) + noise"
   ]
  },
  {
   "cell_type": "code",
   "execution_count": 2,
   "id": "e0fbf532",
   "metadata": {},
   "outputs": [],
   "source": [
    "# 예제 데이터셋 생성\n",
    "T = 100\n",
    "f = toy_problem(T)"
   ]
  },
  {
   "cell_type": "code",
   "execution_count": 3,
   "id": "0660ab07",
   "metadata": {},
   "outputs": [],
   "source": [
    "# 시간설정: 25\n",
    "length_of_sequences = 2 * T # 시계열 전체의 길이\n",
    "maxlen = 25 # 하나의 시계열 데이터의 길이\n",
    "\n",
    "data = []\n",
    "target = []\n",
    "\n",
    "for i in range(0, length_of_sequences - maxlen + 1):\n",
    "    data.append(f[i:i+maxlen])\n",
    "    target.append(f[i+maxlen])"
   ]
  },
  {
   "cell_type": "code",
   "execution_count": 4,
   "id": "08e06887",
   "metadata": {},
   "outputs": [],
   "source": [
    "X = np.zeros((len(data), maxlen, 1), dtype=float)\n",
    "Y = np.zeros((len(data), 1), dtype=float)\n",
    "\n",
    "for i, seq in enumerate(data):\n",
    "    for t, value in enumerate(seq):\n",
    "        X[i, t, 0] = value\n",
    "    Y[i, 0] = target[i]"
   ]
  },
  {
   "cell_type": "code",
   "execution_count": 5,
   "id": "ba342601",
   "metadata": {},
   "outputs": [],
   "source": [
    "N_train = int(len(data) * 0.9)\n",
    "N_validation = len(data) - N_train\n",
    "\n",
    "from sklearn.model_selection import train_test_split\n",
    "\n",
    "X_train, X_validation, y_train, y_validation = train_test_split(X, Y, test_size=N_validation)"
   ]
  },
  {
   "cell_type": "markdown",
   "id": "8b8576a0",
   "metadata": {},
   "source": [
    "### 이제 텐서플로로 구현해보자"
   ]
  },
  {
   "cell_type": "code",
   "execution_count": 6,
   "id": "44a3a940",
   "metadata": {},
   "outputs": [],
   "source": [
    "import tensorflow as tf\n",
    "import tensorflow\n",
    "\n",
    "def inference(x, n_batch, maxlen=None, n_hidden=None, n_out=None):\n",
    "    def weight_variable(shape):\n",
    "        initial = tf.truncated_normal(shape, stddev=0.01)\n",
    "        return tf.Variable(initial)\n",
    "    def bias_variable(shape):\n",
    "        initial = tf.zeros(shape, dtype=tf.float32)\n",
    "        return tf.Variable(initial)\n",
    "    \n",
    "    cell = tf.compat.v1.nn.rnn_cell.BasicRNNCell(n_hidden)\n",
    "    initial_state = cell.zero_state(n_batch, tf.float32)\n",
    "    \n",
    "    state= initial_state\n",
    "    outputs = []\n",
    "    with tf.variable_scope('RNN'):\n",
    "        for t in range(maxlen):\n",
    "            if t > 0:\n",
    "                tf.get_variable_scope().reuse_variables()\n",
    "            (cell_output, state) = cell(x[:, t, :], state)\n",
    "            outputs.append(cell_output)\n",
    "    output = outputs[-1]\n",
    "    \n",
    "    V = weight_variable([n_hidden, n_out])\n",
    "    c = bias_variable([n_out])\n",
    "    y = tf.matmul(output, V)\n",
    "    \n",
    "    return y"
   ]
  },
  {
   "cell_type": "code",
   "execution_count": 7,
   "id": "b10db40d",
   "metadata": {},
   "outputs": [],
   "source": [
    "def loss(y, t):\n",
    "    mse = tf.reduce_mean(tf.square(y-t))\n",
    "    return mse"
   ]
  },
  {
   "cell_type": "code",
   "execution_count": 8,
   "id": "1a6a7f3c",
   "metadata": {},
   "outputs": [],
   "source": [
    "def training(loss):\n",
    "    optimizer = tf.train.AdamOptimizer(learning_rate=0.001, beta1=0.9, beta2=0.999)\n",
    "    train_step = optimizer.minimize(loss)\n",
    "    return train_step"
   ]
  },
  {
   "cell_type": "code",
   "execution_count": 9,
   "id": "693646ba",
   "metadata": {},
   "outputs": [
    {
     "name": "stdout",
     "output_type": "stream",
     "text": [
      "WARNING:tensorflow:From C:\\Users\\Main\\Anaconda3\\lib\\site-packages\\tensorflow\\python\\compat\\v2_compat.py:107: disable_resource_variables (from tensorflow.python.ops.variable_scope) is deprecated and will be removed in a future version.\n",
      "Instructions for updating:\n",
      "non-resource variables are not supported in the long term\n"
     ]
    },
    {
     "ename": "ModuleNotFoundError",
     "evalue": "No module named 'keras.api._v1.keras.__internal__.legacy'",
     "output_type": "error",
     "traceback": [
      "\u001b[1;31m---------------------------------------------------------------------------\u001b[0m",
      "\u001b[1;31mModuleNotFoundError\u001b[0m                       Traceback (most recent call last)",
      "\u001b[1;32m~\\AppData\\Local\\Temp/ipykernel_18572/3026175466.py\u001b[0m in \u001b[0;36m<module>\u001b[1;34m\u001b[0m\n\u001b[0;32m      9\u001b[0m \u001b[0mn_batch\u001b[0m \u001b[1;33m=\u001b[0m \u001b[0mlen\u001b[0m\u001b[1;33m(\u001b[0m\u001b[0mX\u001b[0m\u001b[1;33m)\u001b[0m \u001b[1;33m//\u001b[0m \u001b[1;36m10\u001b[0m\u001b[1;33m\u001b[0m\u001b[1;33m\u001b[0m\u001b[0m\n\u001b[0;32m     10\u001b[0m \u001b[1;33m\u001b[0m\u001b[0m\n\u001b[1;32m---> 11\u001b[1;33m \u001b[0my\u001b[0m \u001b[1;33m=\u001b[0m \u001b[0minference\u001b[0m\u001b[1;33m(\u001b[0m\u001b[0mx\u001b[0m\u001b[1;33m,\u001b[0m \u001b[0mn_batch\u001b[0m\u001b[1;33m,\u001b[0m \u001b[0mmaxlen\u001b[0m\u001b[1;33m=\u001b[0m\u001b[0mmaxlen\u001b[0m\u001b[1;33m,\u001b[0m \u001b[0mn_hidden\u001b[0m\u001b[1;33m=\u001b[0m\u001b[0mn_hidden\u001b[0m\u001b[1;33m,\u001b[0m \u001b[0mn_out\u001b[0m\u001b[1;33m=\u001b[0m\u001b[0mn_out\u001b[0m\u001b[1;33m)\u001b[0m\u001b[1;33m\u001b[0m\u001b[1;33m\u001b[0m\u001b[0m\n\u001b[0m\u001b[0;32m     12\u001b[0m \u001b[0mloss\u001b[0m \u001b[1;33m=\u001b[0m \u001b[0mloss\u001b[0m\u001b[1;33m(\u001b[0m\u001b[0my\u001b[0m\u001b[1;33m,\u001b[0m \u001b[0mt\u001b[0m\u001b[1;33m)\u001b[0m\u001b[1;33m\u001b[0m\u001b[1;33m\u001b[0m\u001b[0m\n\u001b[0;32m     13\u001b[0m \u001b[0mtrain_step\u001b[0m \u001b[1;33m=\u001b[0m \u001b[0mtraining\u001b[0m\u001b[1;33m(\u001b[0m\u001b[0mloss\u001b[0m\u001b[1;33m)\u001b[0m\u001b[1;33m\u001b[0m\u001b[1;33m\u001b[0m\u001b[0m\n",
      "\u001b[1;32m~\\AppData\\Local\\Temp/ipykernel_18572/1432492078.py\u001b[0m in \u001b[0;36minference\u001b[1;34m(x, n_batch, maxlen, n_hidden, n_out)\u001b[0m\n\u001b[0;32m     10\u001b[0m         \u001b[1;32mreturn\u001b[0m \u001b[0mtf\u001b[0m\u001b[1;33m.\u001b[0m\u001b[0mVariable\u001b[0m\u001b[1;33m(\u001b[0m\u001b[0minitial\u001b[0m\u001b[1;33m)\u001b[0m\u001b[1;33m\u001b[0m\u001b[1;33m\u001b[0m\u001b[0m\n\u001b[0;32m     11\u001b[0m \u001b[1;33m\u001b[0m\u001b[0m\n\u001b[1;32m---> 12\u001b[1;33m     \u001b[0mcell\u001b[0m \u001b[1;33m=\u001b[0m \u001b[0mtf\u001b[0m\u001b[1;33m.\u001b[0m\u001b[0mcompat\u001b[0m\u001b[1;33m.\u001b[0m\u001b[0mv1\u001b[0m\u001b[1;33m.\u001b[0m\u001b[0mnn\u001b[0m\u001b[1;33m.\u001b[0m\u001b[0mrnn_cell\u001b[0m\u001b[1;33m.\u001b[0m\u001b[0mBasicRNNCell\u001b[0m\u001b[1;33m(\u001b[0m\u001b[0mn_hidden\u001b[0m\u001b[1;33m)\u001b[0m\u001b[1;33m\u001b[0m\u001b[1;33m\u001b[0m\u001b[0m\n\u001b[0m\u001b[0;32m     13\u001b[0m     \u001b[0minitial_state\u001b[0m \u001b[1;33m=\u001b[0m \u001b[0mcell\u001b[0m\u001b[1;33m.\u001b[0m\u001b[0mzero_state\u001b[0m\u001b[1;33m(\u001b[0m\u001b[0mn_batch\u001b[0m\u001b[1;33m,\u001b[0m \u001b[0mtf\u001b[0m\u001b[1;33m.\u001b[0m\u001b[0mfloat32\u001b[0m\u001b[1;33m)\u001b[0m\u001b[1;33m\u001b[0m\u001b[1;33m\u001b[0m\u001b[0m\n\u001b[0;32m     14\u001b[0m \u001b[1;33m\u001b[0m\u001b[0m\n",
      "\u001b[1;32m~\\Anaconda3\\lib\\site-packages\\tensorflow\\python\\util\\lazy_loader.py\u001b[0m in \u001b[0;36m__getattr__\u001b[1;34m(self, item)\u001b[0m\n\u001b[0;32m     56\u001b[0m \u001b[1;33m\u001b[0m\u001b[0m\n\u001b[0;32m     57\u001b[0m   \u001b[1;32mdef\u001b[0m \u001b[0m__getattr__\u001b[0m\u001b[1;33m(\u001b[0m\u001b[0mself\u001b[0m\u001b[1;33m,\u001b[0m \u001b[0mitem\u001b[0m\u001b[1;33m)\u001b[0m\u001b[1;33m:\u001b[0m\u001b[1;33m\u001b[0m\u001b[1;33m\u001b[0m\u001b[0m\n\u001b[1;32m---> 58\u001b[1;33m     \u001b[0mmodule\u001b[0m \u001b[1;33m=\u001b[0m \u001b[0mself\u001b[0m\u001b[1;33m.\u001b[0m\u001b[0m_load\u001b[0m\u001b[1;33m(\u001b[0m\u001b[1;33m)\u001b[0m\u001b[1;33m\u001b[0m\u001b[1;33m\u001b[0m\u001b[0m\n\u001b[0m\u001b[0;32m     59\u001b[0m     \u001b[1;32mreturn\u001b[0m \u001b[0mgetattr\u001b[0m\u001b[1;33m(\u001b[0m\u001b[0mmodule\u001b[0m\u001b[1;33m,\u001b[0m \u001b[0mitem\u001b[0m\u001b[1;33m)\u001b[0m\u001b[1;33m\u001b[0m\u001b[1;33m\u001b[0m\u001b[0m\n\u001b[0;32m     60\u001b[0m \u001b[1;33m\u001b[0m\u001b[0m\n",
      "\u001b[1;32m~\\Anaconda3\\lib\\site-packages\\tensorflow\\python\\util\\lazy_loader.py\u001b[0m in \u001b[0;36m_load\u001b[1;34m(self)\u001b[0m\n\u001b[0;32m     39\u001b[0m     \u001b[1;34m\"\"\"Load the module and insert it into the parent's globals.\"\"\"\u001b[0m\u001b[1;33m\u001b[0m\u001b[1;33m\u001b[0m\u001b[0m\n\u001b[0;32m     40\u001b[0m     \u001b[1;31m# Import the target module and insert it into the parent's namespace\u001b[0m\u001b[1;33m\u001b[0m\u001b[1;33m\u001b[0m\u001b[0m\n\u001b[1;32m---> 41\u001b[1;33m     \u001b[0mmodule\u001b[0m \u001b[1;33m=\u001b[0m \u001b[0mimportlib\u001b[0m\u001b[1;33m.\u001b[0m\u001b[0mimport_module\u001b[0m\u001b[1;33m(\u001b[0m\u001b[0mself\u001b[0m\u001b[1;33m.\u001b[0m\u001b[0m__name__\u001b[0m\u001b[1;33m)\u001b[0m\u001b[1;33m\u001b[0m\u001b[1;33m\u001b[0m\u001b[0m\n\u001b[0m\u001b[0;32m     42\u001b[0m     \u001b[0mself\u001b[0m\u001b[1;33m.\u001b[0m\u001b[0m_parent_module_globals\u001b[0m\u001b[1;33m[\u001b[0m\u001b[0mself\u001b[0m\u001b[1;33m.\u001b[0m\u001b[0m_local_name\u001b[0m\u001b[1;33m]\u001b[0m \u001b[1;33m=\u001b[0m \u001b[0mmodule\u001b[0m\u001b[1;33m\u001b[0m\u001b[1;33m\u001b[0m\u001b[0m\n\u001b[0;32m     43\u001b[0m \u001b[1;33m\u001b[0m\u001b[0m\n",
      "\u001b[1;32m~\\Anaconda3\\lib\\importlib\\__init__.py\u001b[0m in \u001b[0;36mimport_module\u001b[1;34m(name, package)\u001b[0m\n\u001b[0;32m    125\u001b[0m                 \u001b[1;32mbreak\u001b[0m\u001b[1;33m\u001b[0m\u001b[1;33m\u001b[0m\u001b[0m\n\u001b[0;32m    126\u001b[0m             \u001b[0mlevel\u001b[0m \u001b[1;33m+=\u001b[0m \u001b[1;36m1\u001b[0m\u001b[1;33m\u001b[0m\u001b[1;33m\u001b[0m\u001b[0m\n\u001b[1;32m--> 127\u001b[1;33m     \u001b[1;32mreturn\u001b[0m \u001b[0m_bootstrap\u001b[0m\u001b[1;33m.\u001b[0m\u001b[0m_gcd_import\u001b[0m\u001b[1;33m(\u001b[0m\u001b[0mname\u001b[0m\u001b[1;33m[\u001b[0m\u001b[0mlevel\u001b[0m\u001b[1;33m:\u001b[0m\u001b[1;33m]\u001b[0m\u001b[1;33m,\u001b[0m \u001b[0mpackage\u001b[0m\u001b[1;33m,\u001b[0m \u001b[0mlevel\u001b[0m\u001b[1;33m)\u001b[0m\u001b[1;33m\u001b[0m\u001b[1;33m\u001b[0m\u001b[0m\n\u001b[0m\u001b[0;32m    128\u001b[0m \u001b[1;33m\u001b[0m\u001b[0m\n\u001b[0;32m    129\u001b[0m \u001b[1;33m\u001b[0m\u001b[0m\n",
      "\u001b[1;32m~\\Anaconda3\\lib\\importlib\\_bootstrap.py\u001b[0m in \u001b[0;36m_gcd_import\u001b[1;34m(name, package, level)\u001b[0m\n",
      "\u001b[1;32m~\\Anaconda3\\lib\\importlib\\_bootstrap.py\u001b[0m in \u001b[0;36m_find_and_load\u001b[1;34m(name, import_)\u001b[0m\n",
      "\u001b[1;32m~\\Anaconda3\\lib\\importlib\\_bootstrap.py\u001b[0m in \u001b[0;36m_find_and_load_unlocked\u001b[1;34m(name, import_)\u001b[0m\n",
      "\u001b[1;32m~\\Anaconda3\\lib\\importlib\\_bootstrap.py\u001b[0m in \u001b[0;36m_call_with_frames_removed\u001b[1;34m(f, *args, **kwds)\u001b[0m\n",
      "\u001b[1;32m~\\Anaconda3\\lib\\importlib\\_bootstrap.py\u001b[0m in \u001b[0;36m_gcd_import\u001b[1;34m(name, package, level)\u001b[0m\n",
      "\u001b[1;32m~\\Anaconda3\\lib\\importlib\\_bootstrap.py\u001b[0m in \u001b[0;36m_find_and_load\u001b[1;34m(name, import_)\u001b[0m\n",
      "\u001b[1;32m~\\Anaconda3\\lib\\importlib\\_bootstrap.py\u001b[0m in \u001b[0;36m_find_and_load_unlocked\u001b[1;34m(name, import_)\u001b[0m\n",
      "\u001b[1;31mModuleNotFoundError\u001b[0m: No module named 'keras.api._v1.keras.__internal__.legacy'"
     ]
    }
   ],
   "source": [
    "n_in = len(X[0][0]) # 1\n",
    "n_hidden = 20\n",
    "n_out = len(Y[0])  # 1\n",
    "\n",
    "import tensorflow.compat.v1 as tf\n",
    "tf.disable_v2_behavior()\n",
    "x = tf.placeholder(tf.float32, shape=[None, maxlen, n_in])\n",
    "t = tf.placeholder(tf.float32, shape=[None, n_out])\n",
    "n_batch = len(X) // 10\n",
    "\n",
    "y = inference(x, n_batch, maxlen=maxlen, n_hidden=n_hidden, n_out=n_out)\n",
    "loss = loss(y, t)\n",
    "train_step = training(loss)"
   ]
  },
  {
   "cell_type": "code",
   "execution_count": 36,
   "id": "0e8d542a",
   "metadata": {},
   "outputs": [],
   "source": [
    "# 버전이 달라져서 자꾸 에러 생기는 듯... 다른 책으로 다시 찾아보기ㅜ"
   ]
  },
  {
   "cell_type": "markdown",
   "id": "0170030f",
   "metadata": {},
   "source": [
    "### Keras로 구현하기"
   ]
  },
  {
   "cell_type": "code",
   "execution_count": 13,
   "id": "031601f8",
   "metadata": {
    "scrolled": true
   },
   "outputs": [
    {
     "ename": "ImportError",
     "evalue": "cannot import name 'SimpleRNN' from 'keras.layers' (unknown location)",
     "output_type": "error",
     "traceback": [
      "\u001b[1;31m---------------------------------------------------------------------------\u001b[0m",
      "\u001b[1;31mImportError\u001b[0m                               Traceback (most recent call last)",
      "\u001b[1;32m~\\AppData\\Local\\Temp/ipykernel_18572/330506264.py\u001b[0m in \u001b[0;36m<module>\u001b[1;34m\u001b[0m\n\u001b[1;32m----> 1\u001b[1;33m \u001b[1;32mfrom\u001b[0m \u001b[0mkeras\u001b[0m\u001b[1;33m.\u001b[0m\u001b[0mlayers\u001b[0m \u001b[1;32mimport\u001b[0m \u001b[0mSimpleRNN\u001b[0m\u001b[1;33m\u001b[0m\u001b[1;33m\u001b[0m\u001b[0m\n\u001b[0m",
      "\u001b[1;31mImportError\u001b[0m: cannot import name 'SimpleRNN' from 'keras.layers' (unknown location)"
     ]
    }
   ],
   "source": [
    "from keras.layers import SimpleRNN"
   ]
  },
  {
   "cell_type": "code",
   "execution_count": 14,
   "id": "a37ad45b",
   "metadata": {},
   "outputs": [
    {
     "ename": "AssertionError",
     "evalue": "Duplicate registrations for type 'optimizer'",
     "output_type": "error",
     "traceback": [
      "\u001b[1;31m---------------------------------------------------------------------------\u001b[0m",
      "\u001b[1;31mAssertionError\u001b[0m                            Traceback (most recent call last)",
      "\u001b[1;32m~\\AppData\\Local\\Temp/ipykernel_18572/1586646955.py\u001b[0m in \u001b[0;36m<module>\u001b[1;34m\u001b[0m\n\u001b[1;32m----> 1\u001b[1;33m \u001b[1;32mfrom\u001b[0m \u001b[0mkeras\u001b[0m\u001b[1;33m.\u001b[0m\u001b[0mmodels\u001b[0m \u001b[1;32mimport\u001b[0m \u001b[0mSequential\u001b[0m\u001b[1;33m\u001b[0m\u001b[1;33m\u001b[0m\u001b[0m\n\u001b[0m\u001b[0;32m      2\u001b[0m \u001b[1;32mfrom\u001b[0m \u001b[0mkeras\u001b[0m\u001b[1;33m.\u001b[0m\u001b[0mlayers\u001b[0m \u001b[1;32mimport\u001b[0m \u001b[0mDense\u001b[0m\u001b[1;33m,\u001b[0m \u001b[0mActivation\u001b[0m\u001b[1;33m\u001b[0m\u001b[1;33m\u001b[0m\u001b[0m\n\u001b[0;32m      3\u001b[0m \u001b[1;32mfrom\u001b[0m \u001b[0mkeras\u001b[0m\u001b[1;33m.\u001b[0m\u001b[0moptimizers\u001b[0m \u001b[1;32mimport\u001b[0m \u001b[0mSGD\u001b[0m\u001b[1;33m\u001b[0m\u001b[1;33m\u001b[0m\u001b[0m\n\u001b[0;32m      4\u001b[0m \u001b[1;32mfrom\u001b[0m \u001b[0mkeras\u001b[0m\u001b[1;33m.\u001b[0m\u001b[0mlayers\u001b[0m\u001b[1;33m.\u001b[0m\u001b[0mcore\u001b[0m \u001b[1;32mimport\u001b[0m \u001b[0mDropout\u001b[0m\u001b[1;33m\u001b[0m\u001b[1;33m\u001b[0m\u001b[0m\n\u001b[0;32m      5\u001b[0m \u001b[1;32mfrom\u001b[0m \u001b[0mkeras\u001b[0m\u001b[1;33m.\u001b[0m\u001b[0moptimizers\u001b[0m \u001b[1;32mimport\u001b[0m \u001b[0mAdam\u001b[0m\u001b[1;33m\u001b[0m\u001b[1;33m\u001b[0m\u001b[0m\n",
      "\u001b[1;32m~\\Anaconda3\\lib\\site-packages\\keras\\models\\__init__.py\u001b[0m in \u001b[0;36m<module>\u001b[1;34m\u001b[0m\n\u001b[0;32m     16\u001b[0m \u001b[1;31m# pylint: disable=g-bad-import-order\u001b[0m\u001b[1;33m\u001b[0m\u001b[1;33m\u001b[0m\u001b[0m\n\u001b[0;32m     17\u001b[0m \u001b[1;33m\u001b[0m\u001b[0m\n\u001b[1;32m---> 18\u001b[1;33m \u001b[1;32mfrom\u001b[0m \u001b[0mkeras\u001b[0m\u001b[1;33m.\u001b[0m\u001b[0mengine\u001b[0m\u001b[1;33m.\u001b[0m\u001b[0mfunctional\u001b[0m \u001b[1;32mimport\u001b[0m \u001b[0mFunctional\u001b[0m\u001b[1;33m\u001b[0m\u001b[1;33m\u001b[0m\u001b[0m\n\u001b[0m\u001b[0;32m     19\u001b[0m \u001b[1;32mfrom\u001b[0m \u001b[0mkeras\u001b[0m\u001b[1;33m.\u001b[0m\u001b[0mengine\u001b[0m\u001b[1;33m.\u001b[0m\u001b[0msequential\u001b[0m \u001b[1;32mimport\u001b[0m \u001b[0mSequential\u001b[0m\u001b[1;33m\u001b[0m\u001b[1;33m\u001b[0m\u001b[0m\n\u001b[0;32m     20\u001b[0m \u001b[1;32mfrom\u001b[0m \u001b[0mkeras\u001b[0m\u001b[1;33m.\u001b[0m\u001b[0mengine\u001b[0m\u001b[1;33m.\u001b[0m\u001b[0mtraining\u001b[0m \u001b[1;32mimport\u001b[0m \u001b[0mModel\u001b[0m\u001b[1;33m\u001b[0m\u001b[1;33m\u001b[0m\u001b[0m\n",
      "\u001b[1;32m~\\Anaconda3\\lib\\site-packages\\keras\\engine\\functional.py\u001b[0m in \u001b[0;36m<module>\u001b[1;34m\u001b[0m\n\u001b[0;32m     23\u001b[0m \u001b[1;32mimport\u001b[0m \u001b[0mwarnings\u001b[0m\u001b[1;33m\u001b[0m\u001b[1;33m\u001b[0m\u001b[0m\n\u001b[0;32m     24\u001b[0m \u001b[1;32mfrom\u001b[0m \u001b[0mkeras\u001b[0m \u001b[1;32mimport\u001b[0m \u001b[0mbackend\u001b[0m\u001b[1;33m\u001b[0m\u001b[1;33m\u001b[0m\u001b[0m\n\u001b[1;32m---> 25\u001b[1;33m \u001b[1;32mfrom\u001b[0m \u001b[0mkeras\u001b[0m\u001b[1;33m.\u001b[0m\u001b[0mengine\u001b[0m \u001b[1;32mimport\u001b[0m \u001b[0mbase_layer\u001b[0m\u001b[1;33m\u001b[0m\u001b[1;33m\u001b[0m\u001b[0m\n\u001b[0m\u001b[0;32m     26\u001b[0m \u001b[1;32mfrom\u001b[0m \u001b[0mkeras\u001b[0m\u001b[1;33m.\u001b[0m\u001b[0mengine\u001b[0m \u001b[1;32mimport\u001b[0m \u001b[0mbase_layer_utils\u001b[0m\u001b[1;33m\u001b[0m\u001b[1;33m\u001b[0m\u001b[0m\n\u001b[0;32m     27\u001b[0m \u001b[1;32mfrom\u001b[0m \u001b[0mkeras\u001b[0m\u001b[1;33m.\u001b[0m\u001b[0mengine\u001b[0m \u001b[1;32mimport\u001b[0m \u001b[0minput_layer\u001b[0m \u001b[1;32mas\u001b[0m \u001b[0minput_layer_module\u001b[0m\u001b[1;33m\u001b[0m\u001b[1;33m\u001b[0m\u001b[0m\n",
      "\u001b[1;32m~\\Anaconda3\\lib\\site-packages\\keras\\engine\\base_layer.py\u001b[0m in \u001b[0;36m<module>\u001b[1;34m\u001b[0m\n\u001b[0;32m     38\u001b[0m \u001b[1;32mfrom\u001b[0m \u001b[0mkeras\u001b[0m\u001b[1;33m.\u001b[0m\u001b[0mengine\u001b[0m \u001b[1;32mimport\u001b[0m \u001b[0mnode\u001b[0m \u001b[1;32mas\u001b[0m \u001b[0mnode_module\u001b[0m\u001b[1;33m\u001b[0m\u001b[1;33m\u001b[0m\u001b[0m\n\u001b[0;32m     39\u001b[0m \u001b[1;32mfrom\u001b[0m \u001b[0mkeras\u001b[0m\u001b[1;33m.\u001b[0m\u001b[0mmixed_precision\u001b[0m \u001b[1;32mimport\u001b[0m \u001b[0mautocast_variable\u001b[0m\u001b[1;33m\u001b[0m\u001b[1;33m\u001b[0m\u001b[0m\n\u001b[1;32m---> 40\u001b[1;33m \u001b[1;32mfrom\u001b[0m \u001b[0mkeras\u001b[0m\u001b[1;33m.\u001b[0m\u001b[0mmixed_precision\u001b[0m \u001b[1;32mimport\u001b[0m \u001b[0mloss_scale_optimizer\u001b[0m\u001b[1;33m\u001b[0m\u001b[1;33m\u001b[0m\u001b[0m\n\u001b[0m\u001b[0;32m     41\u001b[0m \u001b[1;32mfrom\u001b[0m \u001b[0mkeras\u001b[0m\u001b[1;33m.\u001b[0m\u001b[0mmixed_precision\u001b[0m \u001b[1;32mimport\u001b[0m \u001b[0mpolicy\u001b[0m\u001b[1;33m\u001b[0m\u001b[1;33m\u001b[0m\u001b[0m\n\u001b[0;32m     42\u001b[0m \u001b[1;32mfrom\u001b[0m \u001b[0mkeras\u001b[0m\u001b[1;33m.\u001b[0m\u001b[0msaving\u001b[0m\u001b[1;33m.\u001b[0m\u001b[0msaved_model\u001b[0m \u001b[1;32mimport\u001b[0m \u001b[0mlayer_serialization\u001b[0m\u001b[1;33m\u001b[0m\u001b[1;33m\u001b[0m\u001b[0m\n",
      "\u001b[1;32m~\\Anaconda3\\lib\\site-packages\\keras\\mixed_precision\\loss_scale_optimizer.py\u001b[0m in \u001b[0;36m<module>\u001b[1;34m\u001b[0m\n\u001b[0;32m     18\u001b[0m \u001b[1;32mfrom\u001b[0m \u001b[0mkeras\u001b[0m \u001b[1;32mimport\u001b[0m \u001b[0moptimizers\u001b[0m\u001b[1;33m\u001b[0m\u001b[1;33m\u001b[0m\u001b[0m\n\u001b[0;32m     19\u001b[0m \u001b[1;32mfrom\u001b[0m \u001b[0mkeras\u001b[0m\u001b[1;33m.\u001b[0m\u001b[0mmixed_precision\u001b[0m \u001b[1;32mimport\u001b[0m \u001b[0mloss_scale\u001b[0m \u001b[1;32mas\u001b[0m \u001b[0mkeras_loss_scale_module\u001b[0m\u001b[1;33m\u001b[0m\u001b[1;33m\u001b[0m\u001b[0m\n\u001b[1;32m---> 20\u001b[1;33m \u001b[1;32mfrom\u001b[0m \u001b[0mkeras\u001b[0m\u001b[1;33m.\u001b[0m\u001b[0moptimizer_v2\u001b[0m \u001b[1;32mimport\u001b[0m \u001b[0moptimizer_v2\u001b[0m\u001b[1;33m\u001b[0m\u001b[1;33m\u001b[0m\u001b[0m\n\u001b[0m\u001b[0;32m     21\u001b[0m \u001b[1;32mfrom\u001b[0m \u001b[0mkeras\u001b[0m\u001b[1;33m.\u001b[0m\u001b[0moptimizer_v2\u001b[0m \u001b[1;32mimport\u001b[0m \u001b[0mutils\u001b[0m \u001b[1;32mas\u001b[0m \u001b[0moptimizer_utils\u001b[0m\u001b[1;33m\u001b[0m\u001b[1;33m\u001b[0m\u001b[0m\n\u001b[0;32m     22\u001b[0m \u001b[1;33m\u001b[0m\u001b[0m\n",
      "\u001b[1;32m~\\Anaconda3\\lib\\site-packages\\keras\\optimizer_v2\\optimizer_v2.py\u001b[0m in \u001b[0;36m<module>\u001b[1;34m\u001b[0m\n\u001b[0;32m   1459\u001b[0m         \"you.\")\n\u001b[0;32m   1460\u001b[0m \u001b[1;33m\u001b[0m\u001b[0m\n\u001b[1;32m-> 1461\u001b[1;33m tf.__internal__.saved_model.load.register_revived_type(\n\u001b[0m\u001b[0;32m   1462\u001b[0m     \u001b[1;34m\"optimizer\"\u001b[0m\u001b[1;33m,\u001b[0m\u001b[1;33m\u001b[0m\u001b[1;33m\u001b[0m\u001b[0m\n\u001b[0;32m   1463\u001b[0m     \u001b[1;32mlambda\u001b[0m \u001b[0mobj\u001b[0m\u001b[1;33m:\u001b[0m \u001b[0misinstance\u001b[0m\u001b[1;33m(\u001b[0m\u001b[0mobj\u001b[0m\u001b[1;33m,\u001b[0m \u001b[0mOptimizerV2\u001b[0m\u001b[1;33m)\u001b[0m\u001b[1;33m,\u001b[0m\u001b[1;33m\u001b[0m\u001b[1;33m\u001b[0m\u001b[0m\n",
      "\u001b[1;32m~\\Anaconda3\\lib\\site-packages\\tensorflow\\python\\saved_model\\revived_types.py\u001b[0m in \u001b[0;36mregister_revived_type\u001b[1;34m(identifier, predicate, versions)\u001b[0m\n\u001b[0;32m    131\u001b[0m \u001b[1;33m\u001b[0m\u001b[0m\n\u001b[0;32m    132\u001b[0m   \u001b[1;32mif\u001b[0m \u001b[0midentifier\u001b[0m \u001b[1;32min\u001b[0m \u001b[0m_REVIVED_TYPE_REGISTRY\u001b[0m\u001b[1;33m:\u001b[0m\u001b[1;33m\u001b[0m\u001b[1;33m\u001b[0m\u001b[0m\n\u001b[1;32m--> 133\u001b[1;33m     \u001b[1;32mraise\u001b[0m \u001b[0mAssertionError\u001b[0m\u001b[1;33m(\u001b[0m\u001b[1;34mf\"Duplicate registrations for type '{identifier}'\"\u001b[0m\u001b[1;33m)\u001b[0m\u001b[1;33m\u001b[0m\u001b[1;33m\u001b[0m\u001b[0m\n\u001b[0m\u001b[0;32m    134\u001b[0m \u001b[1;33m\u001b[0m\u001b[0m\n\u001b[0;32m    135\u001b[0m   \u001b[0m_REVIVED_TYPE_REGISTRY\u001b[0m\u001b[1;33m[\u001b[0m\u001b[0midentifier\u001b[0m\u001b[1;33m]\u001b[0m \u001b[1;33m=\u001b[0m \u001b[1;33m(\u001b[0m\u001b[0mpredicate\u001b[0m\u001b[1;33m,\u001b[0m \u001b[0mversions\u001b[0m\u001b[1;33m)\u001b[0m\u001b[1;33m\u001b[0m\u001b[1;33m\u001b[0m\u001b[0m\n",
      "\u001b[1;31mAssertionError\u001b[0m: Duplicate registrations for type 'optimizer'"
     ]
    }
   ],
   "source": [
    "from keras.models import Sequential\n",
    "from keras.layers import Dense, Activation\n",
    "from keras.optimizers import SGD\n",
    "from keras.layers.core import Dropout\n",
    "from keras.optimizers import Adam"
   ]
  },
  {
   "cell_type": "code",
   "execution_count": 51,
   "id": "7a7c282d",
   "metadata": {},
   "outputs": [],
   "source": [
    "model = Sequential()\n",
    "model.add(SimpleRNN(n_hidden, input_shape=(maxlen, n_out)))\n",
    "model.add(Dense(n_out))\n",
    "model.add(Activation('linear'))"
   ]
  },
  {
   "cell_type": "code",
   "execution_count": 54,
   "id": "acfa7c86",
   "metadata": {},
   "outputs": [
    {
     "name": "stderr",
     "output_type": "stream",
     "text": [
      "C:\\Users\\Main\\Anaconda3\\lib\\site-packages\\keras\\optimizers\\optimizer_v2\\adam.py:110: UserWarning: The `lr` argument is deprecated, use `learning_rate` instead.\n",
      "  super(Adam, self).__init__(name, **kwargs)\n"
     ]
    }
   ],
   "source": [
    "optimizer = Adam(lr=0.001, beta_1=0.9, beta_2=0.999)\n",
    "model.compile(loss='mean_squared_error', optimizer=optimizer)"
   ]
  },
  {
   "cell_type": "code",
   "execution_count": 58,
   "id": "814f8050",
   "metadata": {},
   "outputs": [
    {
     "name": "stdout",
     "output_type": "stream",
     "text": [
      "Train on 158 samples, validate on 18 samples\n",
      "Epoch 1/100\n",
      "158/158 [==============================] - 0s 2ms/sample - loss: 0.0011 - val_loss: 0.0017\n",
      "Epoch 2/100\n",
      "158/158 [==============================] - 0s 3ms/sample - loss: 8.0788e-04 - val_loss: 0.0012\n",
      "Epoch 3/100\n",
      "158/158 [==============================] - 0s 3ms/sample - loss: 7.3000e-04 - val_loss: 0.0010\n",
      "Epoch 4/100\n",
      "158/158 [==============================] - 0s 2ms/sample - loss: 8.2705e-04 - val_loss: 7.4514e-04\n",
      "Epoch 5/100\n",
      "158/158 [==============================] - 0s 2ms/sample - loss: 9.1026e-04 - val_loss: 0.0018\n",
      "Epoch 6/100\n",
      "158/158 [==============================] - 0s 3ms/sample - loss: 7.8679e-04 - val_loss: 0.0013\n",
      "Epoch 7/100\n",
      "158/158 [==============================] - 0s 3ms/sample - loss: 8.2158e-04 - val_loss: 0.0018\n",
      "Epoch 8/100\n",
      "158/158 [==============================] - 0s 2ms/sample - loss: 0.0010 - val_loss: 0.0017\n",
      "Epoch 9/100\n",
      "158/158 [==============================] - 0s 2ms/sample - loss: 8.0685e-04 - val_loss: 0.0016\n",
      "Epoch 10/100\n",
      "158/158 [==============================] - 0s 2ms/sample - loss: 8.1769e-04 - val_loss: 0.0016\n",
      "Epoch 11/100\n",
      "158/158 [==============================] - 0s 2ms/sample - loss: 7.9451e-04 - val_loss: 0.0012\n",
      "Epoch 12/100\n",
      "158/158 [==============================] - 0s 3ms/sample - loss: 8.2281e-04 - val_loss: 0.0012\n",
      "Epoch 13/100\n",
      "158/158 [==============================] - 0s 3ms/sample - loss: 7.9553e-04 - val_loss: 0.0010\n",
      "Epoch 14/100\n",
      "158/158 [==============================] - 0s 3ms/sample - loss: 8.6343e-04 - val_loss: 8.4059e-04\n",
      "Epoch 15/100\n",
      "158/158 [==============================] - 0s 2ms/sample - loss: 7.8561e-04 - val_loss: 0.0011\n",
      "Epoch 16/100\n",
      "158/158 [==============================] - 0s 3ms/sample - loss: 7.2461e-04 - val_loss: 0.0011\n",
      "Epoch 17/100\n",
      "158/158 [==============================] - 0s 3ms/sample - loss: 7.4331e-04 - val_loss: 0.0012\n",
      "Epoch 18/100\n",
      "158/158 [==============================] - 0s 2ms/sample - loss: 8.3134e-04 - val_loss: 8.0485e-04\n",
      "Epoch 19/100\n",
      "158/158 [==============================] - 0s 2ms/sample - loss: 9.9731e-04 - val_loss: 9.9725e-04\n",
      "Epoch 20/100\n",
      "158/158 [==============================] - 0s 2ms/sample - loss: 7.5517e-04 - val_loss: 0.0010\n",
      "Epoch 21/100\n",
      "158/158 [==============================] - 0s 3ms/sample - loss: 7.6094e-04 - val_loss: 0.0011\n",
      "Epoch 22/100\n",
      "158/158 [==============================] - 0s 2ms/sample - loss: 7.6951e-04 - val_loss: 0.0014\n",
      "Epoch 23/100\n",
      "158/158 [==============================] - 0s 2ms/sample - loss: 8.5987e-04 - val_loss: 0.0016\n",
      "Epoch 24/100\n",
      "158/158 [==============================] - 0s 2ms/sample - loss: 7.4566e-04 - val_loss: 0.0014\n",
      "Epoch 25/100\n",
      "158/158 [==============================] - 0s 2ms/sample - loss: 7.7154e-04 - val_loss: 0.0013\n",
      "Epoch 26/100\n",
      "158/158 [==============================] - 0s 2ms/sample - loss: 7.3050e-04 - val_loss: 0.0011\n",
      "Epoch 27/100\n",
      "158/158 [==============================] - 0s 2ms/sample - loss: 7.7533e-04 - val_loss: 0.0013\n",
      "Epoch 28/100\n",
      "158/158 [==============================] - 0s 2ms/sample - loss: 0.0010 - val_loss: 0.0014\n",
      "Epoch 29/100\n",
      "158/158 [==============================] - 0s 2ms/sample - loss: 9.5791e-04 - val_loss: 0.0013\n",
      "Epoch 30/100\n",
      "158/158 [==============================] - 0s 2ms/sample - loss: 8.3221e-04 - val_loss: 0.0012\n",
      "Epoch 31/100\n",
      "158/158 [==============================] - 0s 2ms/sample - loss: 8.2779e-04 - val_loss: 0.0014\n",
      "Epoch 32/100\n",
      "158/158 [==============================] - 0s 2ms/sample - loss: 7.9916e-04 - val_loss: 0.0011\n",
      "Epoch 33/100\n",
      "158/158 [==============================] - 0s 2ms/sample - loss: 7.4790e-04 - val_loss: 0.0010\n",
      "Epoch 34/100\n",
      "158/158 [==============================] - 0s 2ms/sample - loss: 7.7063e-04 - val_loss: 0.0018\n",
      "Epoch 35/100\n",
      "158/158 [==============================] - 0s 2ms/sample - loss: 7.6347e-04 - val_loss: 0.0010\n",
      "Epoch 36/100\n",
      "158/158 [==============================] - 0s 2ms/sample - loss: 8.6269e-04 - val_loss: 0.0023\n",
      "Epoch 37/100\n",
      "158/158 [==============================] - 0s 2ms/sample - loss: 7.9090e-04 - val_loss: 0.0016\n",
      "Epoch 38/100\n",
      "158/158 [==============================] - 0s 2ms/sample - loss: 8.5631e-04 - val_loss: 0.0024\n",
      "Epoch 39/100\n",
      "158/158 [==============================] - 0s 2ms/sample - loss: 8.3970e-04 - val_loss: 0.0017\n",
      "Epoch 40/100\n",
      "158/158 [==============================] - 0s 2ms/sample - loss: 7.3362e-04 - val_loss: 8.4552e-04\n",
      "Epoch 41/100\n",
      "158/158 [==============================] - 0s 2ms/sample - loss: 8.3278e-04 - val_loss: 9.7580e-04\n",
      "Epoch 42/100\n",
      "158/158 [==============================] - 0s 2ms/sample - loss: 7.2693e-04 - val_loss: 0.0012\n",
      "Epoch 43/100\n",
      "158/158 [==============================] - 0s 2ms/sample - loss: 7.9010e-04 - val_loss: 8.1726e-04\n",
      "Epoch 44/100\n",
      "158/158 [==============================] - 0s 2ms/sample - loss: 9.3339e-04 - val_loss: 0.0011\n",
      "Epoch 45/100\n",
      "158/158 [==============================] - 0s 2ms/sample - loss: 7.7332e-04 - val_loss: 0.0010\n",
      "Epoch 46/100\n",
      "158/158 [==============================] - 0s 2ms/sample - loss: 7.0358e-04 - val_loss: 0.0011\n",
      "Epoch 47/100\n",
      "158/158 [==============================] - 0s 2ms/sample - loss: 9.6897e-04 - val_loss: 0.0016\n",
      "Epoch 48/100\n",
      "158/158 [==============================] - 0s 2ms/sample - loss: 9.5780e-04 - val_loss: 9.6458e-04\n",
      "Epoch 49/100\n",
      "158/158 [==============================] - 0s 2ms/sample - loss: 0.0011 - val_loss: 6.4981e-04\n",
      "Epoch 50/100\n",
      "158/158 [==============================] - 0s 2ms/sample - loss: 9.3813e-04 - val_loss: 0.0018\n",
      "Epoch 51/100\n",
      "158/158 [==============================] - 0s 2ms/sample - loss: 8.4298e-04 - val_loss: 9.6836e-04\n",
      "Epoch 52/100\n",
      "158/158 [==============================] - 0s 2ms/sample - loss: 7.5449e-04 - val_loss: 0.0013\n",
      "Epoch 53/100\n",
      "158/158 [==============================] - 0s 2ms/sample - loss: 8.2184e-04 - val_loss: 0.0011\n",
      "Epoch 54/100\n",
      "158/158 [==============================] - 0s 2ms/sample - loss: 7.4333e-04 - val_loss: 0.0013\n",
      "Epoch 55/100\n",
      "158/158 [==============================] - 0s 2ms/sample - loss: 8.2001e-04 - val_loss: 0.0014\n",
      "Epoch 56/100\n",
      "158/158 [==============================] - 0s 2ms/sample - loss: 7.9058e-04 - val_loss: 0.0011\n",
      "Epoch 57/100\n",
      "158/158 [==============================] - 0s 2ms/sample - loss: 8.3102e-04 - val_loss: 0.0015\n",
      "Epoch 58/100\n",
      "158/158 [==============================] - 0s 2ms/sample - loss: 8.3019e-04 - val_loss: 0.0015\n",
      "Epoch 59/100\n",
      "158/158 [==============================] - 0s 2ms/sample - loss: 8.1236e-04 - val_loss: 9.8000e-04\n",
      "Epoch 60/100\n",
      "158/158 [==============================] - 0s 2ms/sample - loss: 7.4245e-04 - val_loss: 0.0019\n",
      "Epoch 61/100\n",
      "158/158 [==============================] - 0s 2ms/sample - loss: 8.0233e-04 - val_loss: 0.0010\n",
      "Epoch 62/100\n",
      "158/158 [==============================] - 0s 2ms/sample - loss: 9.2558e-04 - val_loss: 0.0011\n",
      "Epoch 63/100\n",
      "158/158 [==============================] - 0s 2ms/sample - loss: 7.4695e-04 - val_loss: 0.0011\n",
      "Epoch 64/100\n",
      "158/158 [==============================] - 0s 2ms/sample - loss: 7.3084e-04 - val_loss: 0.0011\n",
      "Epoch 65/100\n",
      "158/158 [==============================] - 0s 2ms/sample - loss: 7.8963e-04 - val_loss: 0.0017\n",
      "Epoch 66/100\n",
      "158/158 [==============================] - 0s 2ms/sample - loss: 8.0337e-04 - val_loss: 0.0014\n",
      "Epoch 67/100\n",
      "158/158 [==============================] - 0s 2ms/sample - loss: 7.8587e-04 - val_loss: 0.0014\n",
      "Epoch 68/100\n",
      "158/158 [==============================] - 0s 2ms/sample - loss: 9.3655e-04 - val_loss: 0.0012\n",
      "Epoch 69/100\n",
      "158/158 [==============================] - 0s 2ms/sample - loss: 9.0967e-04 - val_loss: 0.0012\n",
      "Epoch 70/100\n",
      "158/158 [==============================] - 0s 2ms/sample - loss: 8.3085e-04 - val_loss: 0.0016\n",
      "Epoch 71/100\n",
      "158/158 [==============================] - 0s 2ms/sample - loss: 7.3460e-04 - val_loss: 0.0012\n",
      "Epoch 72/100\n",
      "158/158 [==============================] - 0s 2ms/sample - loss: 7.9646e-04 - val_loss: 0.0010\n",
      "Epoch 73/100\n",
      "158/158 [==============================] - 0s 2ms/sample - loss: 7.1430e-04 - val_loss: 0.0014\n",
      "Epoch 74/100\n",
      "158/158 [==============================] - 0s 2ms/sample - loss: 8.1600e-04 - val_loss: 0.0019\n",
      "Epoch 75/100\n",
      "158/158 [==============================] - 0s 2ms/sample - loss: 9.1563e-04 - val_loss: 8.7401e-04\n",
      "Epoch 76/100\n",
      "158/158 [==============================] - 0s 2ms/sample - loss: 8.3268e-04 - val_loss: 0.0011\n",
      "Epoch 77/100\n",
      "158/158 [==============================] - 0s 2ms/sample - loss: 8.6716e-04 - val_loss: 0.0011\n",
      "Epoch 78/100\n",
      "158/158 [==============================] - 0s 2ms/sample - loss: 7.7624e-04 - val_loss: 0.0014\n",
      "Epoch 79/100\n",
      "158/158 [==============================] - 0s 2ms/sample - loss: 7.6869e-04 - val_loss: 0.0011\n",
      "Epoch 80/100\n",
      "158/158 [==============================] - 0s 2ms/sample - loss: 7.3769e-04 - val_loss: 0.0010\n",
      "Epoch 81/100\n",
      "158/158 [==============================] - 0s 2ms/sample - loss: 7.3618e-04 - val_loss: 0.0011\n",
      "Epoch 82/100\n",
      "158/158 [==============================] - 0s 2ms/sample - loss: 9.4676e-04 - val_loss: 0.0012\n",
      "Epoch 83/100\n",
      "158/158 [==============================] - 0s 2ms/sample - loss: 8.4994e-04 - val_loss: 0.0015\n",
      "Epoch 84/100\n",
      "158/158 [==============================] - 0s 2ms/sample - loss: 8.7990e-04 - val_loss: 0.0012\n",
      "Epoch 85/100\n",
      "158/158 [==============================] - 0s 2ms/sample - loss: 7.9115e-04 - val_loss: 0.0019\n",
      "Epoch 86/100\n",
      "158/158 [==============================] - 0s 2ms/sample - loss: 8.7269e-04 - val_loss: 0.0014\n",
      "Epoch 87/100\n",
      "158/158 [==============================] - 0s 2ms/sample - loss: 8.7406e-04 - val_loss: 0.0012\n",
      "Epoch 88/100\n",
      "158/158 [==============================] - 0s 2ms/sample - loss: 7.7034e-04 - val_loss: 0.0012\n",
      "Epoch 89/100\n",
      "158/158 [==============================] - 0s 2ms/sample - loss: 7.8883e-04 - val_loss: 0.0019\n",
      "Epoch 90/100\n",
      "158/158 [==============================] - 0s 2ms/sample - loss: 9.4003e-04 - val_loss: 8.6895e-04\n",
      "Epoch 91/100\n",
      "158/158 [==============================] - 0s 2ms/sample - loss: 8.2656e-04 - val_loss: 9.9294e-04\n",
      "Epoch 92/100\n",
      "158/158 [==============================] - 0s 2ms/sample - loss: 7.7361e-04 - val_loss: 9.6267e-04\n",
      "Epoch 93/100\n",
      "158/158 [==============================] - 0s 2ms/sample - loss: 7.1787e-04 - val_loss: 0.0018\n",
      "Epoch 94/100\n",
      "158/158 [==============================] - 0s 2ms/sample - loss: 8.4747e-04 - val_loss: 0.0013\n",
      "Epoch 95/100\n",
      "158/158 [==============================] - 0s 2ms/sample - loss: 7.2254e-04 - val_loss: 0.0012\n",
      "Epoch 96/100\n",
      "158/158 [==============================] - 0s 2ms/sample - loss: 7.9659e-04 - val_loss: 0.0013\n",
      "Epoch 97/100\n",
      "158/158 [==============================] - 0s 2ms/sample - loss: 0.0010 - val_loss: 0.0012\n",
      "Epoch 98/100\n",
      "158/158 [==============================] - 0s 2ms/sample - loss: 8.0743e-04 - val_loss: 0.0013\n",
      "Epoch 99/100\n",
      "158/158 [==============================] - 0s 2ms/sample - loss: 8.8391e-04 - val_loss: 0.0017\n",
      "Epoch 100/100\n",
      "158/158 [==============================] - 0s 2ms/sample - loss: 6.8872e-04 - val_loss: 0.0016\n"
     ]
    }
   ],
   "source": [
    "epochs = 100\n",
    "batch_size = 10\n",
    "\n",
    "with tf.device(\"/device:GPU:0\"):\n",
    "    model.fit(X_train, y_train, batch_size=batch_size, epochs=epochs, validation_data=(X_validation, y_validation))"
   ]
  }
 ],
 "metadata": {
  "kernelspec": {
   "display_name": "Python 3 (ipykernel)",
   "language": "python",
   "name": "python3"
  },
  "language_info": {
   "codemirror_mode": {
    "name": "ipython",
    "version": 3
   },
   "file_extension": ".py",
   "mimetype": "text/x-python",
   "name": "python",
   "nbconvert_exporter": "python",
   "pygments_lexer": "ipython3",
   "version": "3.9.7"
  }
 },
 "nbformat": 4,
 "nbformat_minor": 5
}
