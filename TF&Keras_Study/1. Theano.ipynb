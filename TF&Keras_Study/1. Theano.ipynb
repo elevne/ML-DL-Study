{
 "cells": [
  {
   "cell_type": "markdown",
   "id": "e8952f32",
   "metadata": {},
   "source": [
    "## Theano 사용해보기\n",
    "실행할 때 C언어 코드가 생성/컴파일 => 속도가 빠름 / 자동미분 가능"
   ]
  },
  {
   "cell_type": "code",
   "execution_count": 2,
   "id": "2034e44c",
   "metadata": {},
   "outputs": [
    {
     "name": "stderr",
     "output_type": "stream",
     "text": [
      "WARNING (theano.configdefaults): g++ not available, if using conda: `conda install m2w64-toolchain`\n",
      "C:\\Users\\Main\\Anaconda3\\lib\\site-packages\\theano\\configdefaults.py:560: UserWarning: DeprecationWarning: there is no c++ compiler.This is deprecated and with Theano 0.11 a c++ compiler will be mandatory\n",
      "  warnings.warn(\"DeprecationWarning: there is no c++ compiler.\"\n",
      "WARNING (theano.configdefaults): g++ not detected ! Theano will be unable to execute optimized C-implementations (for both CPU and GPU) and will default to Python implementations. Performance will be severely degraded. To remove this warning, set Theano flags cxx to an empty string.\n",
      "WARNING (theano.tensor.blas): Using NumPy C-API based implementation for BLAS functions.\n"
     ]
    }
   ],
   "source": [
    "import numpy as np\n",
    "import theano\n",
    "import theano.tensor as T"
   ]
  },
  {
   "cell_type": "code",
   "execution_count": 10,
   "id": "71c247e7",
   "metadata": {},
   "outputs": [],
   "source": [
    "# 심볼 정의하기 (e.g.,)\n",
    "x = T.dscalar('x')\n",
    "a = T.dvector('a')\n",
    "b = T.dmatrix('b')"
   ]
  },
  {
   "cell_type": "code",
   "execution_count": 11,
   "id": "5c30a605",
   "metadata": {},
   "outputs": [],
   "source": [
    "# 수식 정의하기\n",
    "y = x ** 2"
   ]
  },
  {
   "cell_type": "code",
   "execution_count": 12,
   "id": "bdb329d4",
   "metadata": {},
   "outputs": [
    {
     "name": "stdout",
     "output_type": "stream",
     "text": [
      "1.0\n",
      "25.0\n"
     ]
    }
   ],
   "source": [
    "# 심볼을 활용한 수식을 함수로 정의하기\n",
    "f = theano.function(inputs=[x], outputs=y)\n",
    "print(f(1))\n",
    "print(f(5))"
   ]
  },
  {
   "cell_type": "code",
   "execution_count": 13,
   "id": "b5e26829",
   "metadata": {},
   "outputs": [
    {
     "name": "stdout",
     "output_type": "stream",
     "text": [
      "[1. 4. 9.]\n"
     ]
    }
   ],
   "source": [
    "# 수식 정의하기2\n",
    "y = a ** 2\n",
    "f = theano.function(inputs=[a], outputs=y)\n",
    "a = np.array([1, 2, 3])\n",
    "print(f(a))"
   ]
  },
  {
   "cell_type": "code",
   "execution_count": 14,
   "id": "bd965a42",
   "metadata": {},
   "outputs": [
    {
     "name": "stdout",
     "output_type": "stream",
     "text": [
      "2.0\n",
      "6.0\n"
     ]
    }
   ],
   "source": [
    "# 자동미분 구현해보기\n",
    "x = T.dscalar('x')\n",
    "y = x ** 2\n",
    "# T.grad() 사용하여 미분 구현\n",
    "gy = T.grad(cost=y, wrt=x) # cost 는 미분하려는 함수 / wrt는 어느 변수에 관해 미분할지를 나타냄.\n",
    "g = theano.function(inputs=[x], outputs=gy)\n",
    "print(g(1))\n",
    "print(g(3))"
   ]
  }
 ],
 "metadata": {
  "kernelspec": {
   "display_name": "Python 3 (ipykernel)",
   "language": "python",
   "name": "python3"
  },
  "language_info": {
   "codemirror_mode": {
    "name": "ipython",
    "version": 3
   },
   "file_extension": ".py",
   "mimetype": "text/x-python",
   "name": "python",
   "nbconvert_exporter": "python",
   "pygments_lexer": "ipython3",
   "version": "3.9.7"
  }
 },
 "nbformat": 4,
 "nbformat_minor": 5
}
