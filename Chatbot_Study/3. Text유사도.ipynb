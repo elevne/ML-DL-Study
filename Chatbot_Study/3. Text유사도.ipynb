{
 "cells": [
  {
   "cell_type": "code",
   "execution_count": 1,
   "id": "81f6102e",
   "metadata": {},
   "outputs": [],
   "source": [
    "# 2-gram 유사도 계산 (3 문장)\n",
    "from konlpy.tag import Komoran\n",
    "\n",
    "def word_ngram(bow, num_gram):\n",
    "    text = tuple(bow)\n",
    "    ngrams = [text[x:x + num_gram] for x in range(0, len(text))]\n",
    "    return tuple(ngrams)\n",
    "\n",
    "def similarity(doc1, doc2):\n",
    "    cnt = 0\n",
    "    for token in doc1:\n",
    "        if token in doc2:\n",
    "            cnt = cnt + 1\n",
    "    return cnt/len(doc1)"
   ]
  },
  {
   "cell_type": "code",
   "execution_count": 2,
   "id": "10b6b122",
   "metadata": {},
   "outputs": [],
   "source": [
    "sent1 = '6월에 뉴턴은 선생님의 제안으로 트리니티에 입학했다.'\n",
    "sent2 = '6월에 뉴턴은 선생님의 제안으로 대학교에 입학했다.'\n",
    "sent3 = '나는 맛있는 밥을 뉴턴 선생님과 함께 먹었다.'"
   ]
  },
  {
   "cell_type": "code",
   "execution_count": 3,
   "id": "0163edc3",
   "metadata": {},
   "outputs": [],
   "source": [
    "komoran = Komoran()\n",
    "bow1 = komoran.nouns(sent1)\n",
    "bow2 = komoran.nouns(sent2)\n",
    "bow3 = komoran.nouns(sent3)"
   ]
  },
  {
   "cell_type": "code",
   "execution_count": 4,
   "id": "747a9623",
   "metadata": {},
   "outputs": [],
   "source": [
    "doc1 = word_ngram(bow1, 2)\n",
    "doc2 = word_ngram(bow2, 2)\n",
    "doc3 = word_ngram(bow3, 2)"
   ]
  },
  {
   "cell_type": "code",
   "execution_count": 5,
   "id": "3faf0652",
   "metadata": {},
   "outputs": [
    {
     "name": "stdout",
     "output_type": "stream",
     "text": [
      "(('6월', '뉴턴'), ('뉴턴', '선생님'), ('선생님', '제안'), ('제안', '트리니티'), ('트리니티', '입학'), ('입학',)) (('6월', '뉴턴'), ('뉴턴', '선생님'), ('선생님', '제안'), ('제안', '대학교'), ('대학교', '입학'), ('입학',)) (('밥', '뉴턴'), ('뉴턴', '선생'), ('선생', '님과 함께'), ('님과 함께',))\n"
     ]
    }
   ],
   "source": [
    "print(doc1, doc2, doc3)"
   ]
  },
  {
   "cell_type": "code",
   "execution_count": 6,
   "id": "1d361006",
   "metadata": {},
   "outputs": [
    {
     "name": "stdout",
     "output_type": "stream",
     "text": [
      "0.6666666666666666\n",
      "0.0\n"
     ]
    }
   ],
   "source": [
    "# 유사도\n",
    "r1 = similarity(doc1, doc2)\n",
    "r2 = similarity(doc3, doc1)\n",
    "\n",
    "print(r1)\n",
    "print(r2)"
   ]
  },
  {
   "cell_type": "code",
   "execution_count": 7,
   "id": "df632c53",
   "metadata": {},
   "outputs": [
    {
     "name": "stdout",
     "output_type": "stream",
     "text": [
      "{'입학': 1, '대학교': 0, '선생': 0, '뉴턴': 1, '선생님': 1, '밥': 0, '제안': 1, '6월': 1, '님과 함께': 0, '트리니티': 1}\n",
      "{'입학': 1, '대학교': 1, '선생': 0, '뉴턴': 1, '선생님': 1, '밥': 0, '제안': 1, '6월': 1, '님과 함께': 0, '트리니티': 0}\n",
      "{'입학': 0, '대학교': 0, '선생': 1, '뉴턴': 1, '선생님': 0, '밥': 1, '제안': 0, '6월': 0, '님과 함께': 1, '트리니티': 0}\n",
      "0.8333333333333335\n",
      "0.20412414523193154\n"
     ]
    }
   ],
   "source": [
    "# 코사인 유사도\n",
    "import numpy as np\n",
    "from numpy import dot\n",
    "from numpy.linalg import norm\n",
    "\n",
    "def cos_sim(vec1, vec2):\n",
    "    return dot(vec1, vec2) / (norm(vec1)*norm(vec2))\n",
    "\n",
    "def make_term_doc_mat(sentence_bow, word_dics):\n",
    "    freq_mat = {}\n",
    "    \n",
    "    for word in word_dics:\n",
    "        freq_mat[word] = 0\n",
    "    for word in word_dics:\n",
    "        if word in sentence_bow:\n",
    "            freq_mat[word] += 1\n",
    "    return freq_mat\n",
    "\n",
    "def make_vector(tdm):\n",
    "    vec = []\n",
    "    for key in tdm:\n",
    "        vec.append(tdm[key])\n",
    "    return vec\n",
    "\n",
    "sent1 = '6월에 뉴턴은 선생님의 제안으로 트리니티에 입학했다.'\n",
    "sent2 = '6월에 뉴턴은 선생님의 제안으로 대학교에 입학했다.'\n",
    "sent3 = '나는 맛있는 밥을 뉴턴 선생님과 함께 먹었다.'\n",
    "\n",
    "komoran = Komoran()\n",
    "bow1 = komoran.nouns(sent1)\n",
    "bow2 = komoran.nouns(sent2)\n",
    "bow3 = komoran.nouns(sent3)\n",
    "\n",
    "bow = bow1 + bow2 + bow3\n",
    "\n",
    "word_dics = list(set(bow))\n",
    "\n",
    "freq_list1 = make_term_doc_mat(bow1, word_dics)\n",
    "freq_list2 = make_term_doc_mat(bow2, word_dics)\n",
    "freq_list3 = make_term_doc_mat(bow3, word_dics)\n",
    "print(freq_list1)\n",
    "print(freq_list2)\n",
    "print(freq_list3)\n",
    "\n",
    "doc1 = np.array(make_vector(freq_list1))\n",
    "doc2 = np.array(make_vector(freq_list2))\n",
    "doc3 = np.array(make_vector(freq_list3))\n",
    "\n",
    "r1 = cos_sim(doc1, doc2)\n",
    "r2 = cos_sim(doc3, doc1)\n",
    "print(r1)\n",
    "print(r2)"
   ]
  }
 ],
 "metadata": {
  "kernelspec": {
   "display_name": "Python 3 (ipykernel)",
   "language": "python",
   "name": "python3"
  },
  "language_info": {
   "codemirror_mode": {
    "name": "ipython",
    "version": 3
   },
   "file_extension": ".py",
   "mimetype": "text/x-python",
   "name": "python",
   "nbconvert_exporter": "python",
   "pygments_lexer": "ipython3",
   "version": "3.9.7"
  }
 },
 "nbformat": 4,
 "nbformat_minor": 5
}
