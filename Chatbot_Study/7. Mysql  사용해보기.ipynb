{
 "cells": [
  {
   "cell_type": "code",
   "execution_count": 5,
   "id": "fca07057",
   "metadata": {},
   "outputs": [],
   "source": [
    "import pymysql"
   ]
  },
  {
   "cell_type": "code",
   "execution_count": 15,
   "id": "a17d1308",
   "metadata": {},
   "outputs": [
    {
     "name": "stdout",
     "output_type": "stream",
     "text": [
      "db연결 성공\n",
      "db연결 닫기 성공\n"
     ]
    }
   ],
   "source": [
    "db = None\n",
    "try:\n",
    "    db = pymysql.connect(\n",
    "    host='127.0.0.1',\n",
    "    user='elevne',\n",
    "    passwd='nf6yxxzc!',\n",
    "    db='homestead',\n",
    "    charset='utf8'\n",
    "    )\n",
    "    print('db연결 성공')\n",
    "except Exception as e:\n",
    "    print(e)\n",
    "finally:\n",
    "    if db is not None:\n",
    "        db.close()\n",
    "        print(\"db연결 닫기 성공\")"
   ]
  },
  {
   "cell_type": "code",
   "execution_count": 17,
   "id": "d3b23a52",
   "metadata": {},
   "outputs": [
    {
     "name": "stdout",
     "output_type": "stream",
     "text": [
      "db연결 닫기 성공\n"
     ]
    }
   ],
   "source": [
    "db = None\n",
    "try:\n",
    "    db = pymysql.connect(\n",
    "    host='127.0.0.1',\n",
    "    user='elevne',\n",
    "    passwd='nf6yxxzc!',\n",
    "    db='homestead',\n",
    "    charset='utf8'\n",
    "    )\n",
    "    \n",
    "    sql = '''\n",
    "    CREATE TABLE tb_student (\n",
    "    id int primary key auto_increment not null,\n",
    "    name varchar(32),\n",
    "    age int,\n",
    "    address varchar(32)    \n",
    "    ) ENGINE=InnoDB DEFAULT CHARSET=utf8\n",
    "    '''\n",
    "    \n",
    "    with db.cursor() as cursor:\n",
    "        cursor.execute(sql)\n",
    "\n",
    "except Exception as e:\n",
    "    print(e)\n",
    "finally:\n",
    "    if db is not None:\n",
    "        db.close()\n",
    "        print(\"db연결 닫기 성공\")"
   ]
  },
  {
   "cell_type": "code",
   "execution_count": 19,
   "id": "15484512",
   "metadata": {},
   "outputs": [
    {
     "name": "stdout",
     "output_type": "stream",
     "text": [
      "db연결 닫기 성공\n"
     ]
    }
   ],
   "source": [
    "db = None\n",
    "try:\n",
    "    db = pymysql.connect(\n",
    "    host='127.0.0.1',\n",
    "    user='elevne',\n",
    "    passwd='nf6yxxzc!',\n",
    "    db='homestead',\n",
    "    charset='utf8'\n",
    "    )\n",
    "    \n",
    "    # 데이터삽입\n",
    "    sql = '''\n",
    "    INSERT tb_student(name, age, address) values('Kei', 35, 'Korea')\n",
    "    '''\n",
    "    with db.cursor() as cursor:\n",
    "        cursor.execute(sql)\n",
    "    db.commit()\n",
    "except Exception as e:\n",
    "    print(e)\n",
    "finally:\n",
    "    if db is not None:\n",
    "        db.close()\n",
    "        print(\"db연결 닫기 성공\")"
   ]
  },
  {
   "cell_type": "code",
   "execution_count": 20,
   "id": "d08e4d20",
   "metadata": {},
   "outputs": [
    {
     "name": "stdout",
     "output_type": "stream",
     "text": [
      "db연결 닫기 성공\n"
     ]
    }
   ],
   "source": [
    "db = None\n",
    "try:\n",
    "    db = pymysql.connect(\n",
    "    host='127.0.0.1',\n",
    "    user='elevne',\n",
    "    passwd='nf6yxxzc!',\n",
    "    db='homestead',\n",
    "    charset='utf8'\n",
    "    )\n",
    "    \n",
    "    # 데이터수정\n",
    "    id = 1\n",
    "    sql = '''\n",
    "    UPDATE tb_student set name=\"케이\", age=36 where id=%d\n",
    "    ''' % id\n",
    "    \n",
    "    with db.cursor() as cursor:\n",
    "        cursor.execute(sql)\n",
    "    db.commit()\n",
    "    \n",
    "except Exception as e:\n",
    "    print(e)\n",
    "finally:\n",
    "    if db is not None:\n",
    "        db.close()\n",
    "        print(\"db연결 닫기 성공\")"
   ]
  },
  {
   "cell_type": "code",
   "execution_count": 21,
   "id": "7b4c4dda",
   "metadata": {},
   "outputs": [
    {
     "name": "stdout",
     "output_type": "stream",
     "text": [
      "db연결 닫기 성공\n"
     ]
    }
   ],
   "source": [
    "db = None\n",
    "try:\n",
    "    db = pymysql.connect(\n",
    "    host='127.0.0.1',\n",
    "    user='elevne',\n",
    "    passwd='nf6yxxzc!',\n",
    "    db='homestead',\n",
    "    charset='utf8'\n",
    "    )\n",
    "    \n",
    "    # 데이터삭제\n",
    "    id = 1\n",
    "    sql = '''\n",
    "    DELETE from tb_student where id=%d\n",
    "    ''' % id\n",
    "    \n",
    "    with db.cursor() as cursor:\n",
    "        cursor.execute(sql)\n",
    "    db.commit()\n",
    "    \n",
    "except Exception as e:\n",
    "    print(e)\n",
    "finally:\n",
    "    if db is not None:\n",
    "        db.close()\n",
    "        print(\"db연결 닫기 성공\")"
   ]
  },
  {
   "cell_type": "code",
   "execution_count": 22,
   "id": "42176dff",
   "metadata": {},
   "outputs": [
    {
     "name": "stdout",
     "output_type": "stream",
     "text": [
      "[{'id': 2, 'name': 'Kei', 'age': 36, 'address': 'PUSAN'}, {'id': 3, 'name': 'Tony', 'age': 34, 'address': 'PUSAN'}, {'id': 4, 'name': 'Jaeyoo', 'age': 39, 'address': 'GWANGJU'}]\n",
      "Grace 28\n",
      "   id    name  age  address\n",
      "0   2     Kei   36    PUSAN\n",
      "1   3    Tony   34    PUSAN\n",
      "2   4  Jaeyoo   39  GWANGJU\n",
      "db연결 닫기 성공\n"
     ]
    }
   ],
   "source": [
    "import pandas as pd\n",
    "\n",
    "db = None\n",
    "try:\n",
    "    db = pymysql.connect(\n",
    "    host='127.0.0.1',\n",
    "    user='elevne',\n",
    "    passwd='nf6yxxzc!',\n",
    "    db='homestead',\n",
    "    charset='utf8'\n",
    "    )\n",
    "    \n",
    "    students = [\n",
    "        {'name': 'Kei', 'age': 36, 'address':'PUSAN'},\n",
    "        {'name': 'Tony', 'age': 34, 'address':'PUSAN'},\n",
    "        {'name': 'Jaeyoo', 'age': 39, 'address':'GWANGJU'},\n",
    "        {'name': 'Grace', 'age': 28, 'address':'SEOUL'},\n",
    "        {'name': 'Jenny', 'age': 27, 'address':'SEOUL'}\n",
    "    ]\n",
    "    \n",
    "    for s in students:\n",
    "        with db.cursor() as cursor:\n",
    "            sql = '''\n",
    "            insert tb_student(name, age, address) values ('%s', %d, '%s')\n",
    "            ''' % (s['name'], s['age'], s['address'])\n",
    "            cursor.execute(sql)\n",
    "        db.commit()\n",
    "    \n",
    "    # 30대 학생만 조회하기\n",
    "    cond_age = 30\n",
    "    with db.cursor(pymysql.cursors.DictCursor) as cursor:\n",
    "        sql = '''\n",
    "        select * from tb_student where age > %d\n",
    "        ''' % cond_age\n",
    "        cursor.execute(sql)\n",
    "        results = cursor.fetchall()\n",
    "    print(results)\n",
    "    \n",
    "    # 이름검색\n",
    "    cond_name = \"Grace\"\n",
    "    with db.cursor(pymysql.cursors.DictCursor) as cursor:\n",
    "        sql = '''\n",
    "        select * from tb_student where name=\"%s\"\n",
    "        ''' % cond_name\n",
    "        cursor.execute(sql)\n",
    "        result = cursor.fetchone()\n",
    "    print(result['name'], result['age'])\n",
    "    \n",
    "    # dataframe으로 표현\n",
    "    df = pd.DataFrame(results)\n",
    "    print(df)\n",
    "    \n",
    "except Exception as e:\n",
    "    print(e)\n",
    "finally:\n",
    "    if db is not None:\n",
    "        db.close()\n",
    "        print(\"db연결 닫기 성공\")"
   ]
  }
 ],
 "metadata": {
  "kernelspec": {
   "display_name": "Python 3 (ipykernel)",
   "language": "python",
   "name": "python3"
  },
  "language_info": {
   "codemirror_mode": {
    "name": "ipython",
    "version": 3
   },
   "file_extension": ".py",
   "mimetype": "text/x-python",
   "name": "python",
   "nbconvert_exporter": "python",
   "pygments_lexer": "ipython3",
   "version": "3.9.7"
  }
 },
 "nbformat": 4,
 "nbformat_minor": 5
}
